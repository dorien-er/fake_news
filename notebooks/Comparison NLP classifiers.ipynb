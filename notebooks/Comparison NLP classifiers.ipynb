{
 "cells": [
  {
   "cell_type": "markdown",
   "id": "bc7cd5d1",
   "metadata": {},
   "source": [
    "# Loading the libraries"
   ]
  },
  {
   "cell_type": "code",
   "execution_count": 1,
   "id": "06fb3f5a",
   "metadata": {},
   "outputs": [
    {
     "name": "stderr",
     "output_type": "stream",
     "text": [
      "/Users/dorienroosen/.pyenv/versions/lewagon/envs/sap-one/lib/python3.8/site-packages/xgboost/compat.py:36: FutureWarning: pandas.Int64Index is deprecated and will be removed from pandas in a future version. Use pandas.Index with the appropriate dtype instead.\n",
      "  from pandas import MultiIndex, Int64Index\n"
     ]
    }
   ],
   "source": [
    "# Unzip files\n",
    "import zipfile\n",
    "\n",
    "# Data exploration, statistics, visualisation\n",
    "import pandas as pd\n",
    "import numpy as np\n",
    "import matplotlib.pyplot as plt\n",
    "import seaborn as sns\n",
    "\n",
    "# Text cleaning\n",
    "import nltk\n",
    "import string\n",
    "from nltk.corpus import stopwords\n",
    "from nltk.tokenize import word_tokenize\n",
    "from nltk.stem import WordNetLemmatizer\n",
    "\n",
    "# Train and test split\n",
    "from sklearn.model_selection import train_test_split\n",
    "\n",
    "# Vectorization\n",
    "from tensorflow.keras.preprocessing.text import Tokenizer\n",
    "\n",
    "# Padding\n",
    "from tensorflow.keras.preprocessing.sequence import pad_sequences\n",
    "\n",
    "# Embedding\n",
    "from gensim.models import Word2Vec\n",
    "\n",
    "# Word transformation\n",
    "from transformers import DistilBertTokenizer \n",
    "\n",
    "# Algorithms\n",
    "import os\n",
    "os.environ['KMP_DUPLICATE_LIB_OK']='True'\n",
    "from xgboost import XGBClassifier\n",
    "\n",
    "from tensorflow.keras import layers, Sequential\n",
    "from tensorflow.keras import callbacks\n",
    "\n",
    "# Evaluation metrics\n",
    "from sklearn.metrics import accuracy_score, f1_score"
   ]
  },
  {
   "cell_type": "code",
   "execution_count": 2,
   "id": "7a038b48",
   "metadata": {},
   "outputs": [],
   "source": [
    "# nltk.download('stopwords')\n",
    "# nltk.download('punkt')\n",
    "# nltk.download('wordnet')\n",
    "# nltk.download('omw-1.4')"
   ]
  },
  {
   "cell_type": "markdown",
   "id": "3ee4af65",
   "metadata": {},
   "source": [
    "# Data Loading"
   ]
  },
  {
   "cell_type": "markdown",
   "id": "af027cd3",
   "metadata": {},
   "source": [
    "Load the fake and true news datasets from kaggle"
   ]
  },
  {
   "cell_type": "code",
   "execution_count": 3,
   "id": "247da52d",
   "metadata": {},
   "outputs": [
    {
     "name": "stdout",
     "output_type": "stream",
     "text": [
      "Warning: Your Kaggle API key is readable by other users on this system! To fix this, you can run 'chmod 600 /Users/dorienroosen/.kaggle/kaggle.json'\n",
      "Downloading fake-and-real-news-dataset.zip to /Users/dorienroosen/code/dorien-er/SAP/Roosen_data-scientist-technical-interview/submit\n",
      "100%|██████████████████████████████████████| 41.0M/41.0M [00:23<00:00, 1.68MB/s]\n",
      "100%|██████████████████████████████████████| 41.0M/41.0M [00:23<00:00, 1.85MB/s]\n"
     ]
    }
   ],
   "source": [
    "# Requires Kaggle API token, present as ~/.kaggle/kaggle.json\n",
    "!kaggle datasets download -d clmentbisaillon/fake-and-real-news-dataset"
   ]
  },
  {
   "cell_type": "code",
   "execution_count": 4,
   "id": "3cabf558",
   "metadata": {},
   "outputs": [],
   "source": [
    "zipfile.ZipFile('fake-and-real-news-dataset.zip').extractall()"
   ]
  },
  {
   "cell_type": "code",
   "execution_count": 5,
   "id": "366da020",
   "metadata": {},
   "outputs": [],
   "source": [
    "fake_df = pd.read_csv('Fake.csv')\n",
    "true_df = pd.read_csv('True.csv')"
   ]
  },
  {
   "cell_type": "markdown",
   "id": "7f568065",
   "metadata": {},
   "source": [
    "Define the targets: 0 for Fake News, 1 for True news"
   ]
  },
  {
   "cell_type": "code",
   "execution_count": 6,
   "id": "29eec4a7",
   "metadata": {},
   "outputs": [],
   "source": [
    "fake_df['Target'] = 0 \n",
    "true_df['Target'] = 1 \n"
   ]
  },
  {
   "cell_type": "markdown",
   "id": "88116d50",
   "metadata": {},
   "source": [
    "Merge both datasets into the combined news_df"
   ]
  },
  {
   "cell_type": "code",
   "execution_count": 7,
   "id": "a6c073a1",
   "metadata": {},
   "outputs": [],
   "source": [
    "news_df = pd.concat([fake_df,true_df]) "
   ]
  },
  {
   "cell_type": "markdown",
   "id": "fff54e05",
   "metadata": {},
   "source": [
    "# Data Exploration and preprocessing"
   ]
  },
  {
   "cell_type": "code",
   "execution_count": 8,
   "id": "451c3096",
   "metadata": {
    "scrolled": true
   },
   "outputs": [
    {
     "data": {
      "text/html": [
       "<div>\n",
       "<style scoped>\n",
       "    .dataframe tbody tr th:only-of-type {\n",
       "        vertical-align: middle;\n",
       "    }\n",
       "\n",
       "    .dataframe tbody tr th {\n",
       "        vertical-align: top;\n",
       "    }\n",
       "\n",
       "    .dataframe thead th {\n",
       "        text-align: right;\n",
       "    }\n",
       "</style>\n",
       "<table border=\"1\" class=\"dataframe\">\n",
       "  <thead>\n",
       "    <tr style=\"text-align: right;\">\n",
       "      <th></th>\n",
       "      <th>title</th>\n",
       "      <th>text</th>\n",
       "      <th>subject</th>\n",
       "      <th>date</th>\n",
       "      <th>Target</th>\n",
       "    </tr>\n",
       "  </thead>\n",
       "  <tbody>\n",
       "    <tr>\n",
       "      <th>0</th>\n",
       "      <td>Donald Trump Sends Out Embarrassing New Year’...</td>\n",
       "      <td>Donald Trump just couldn t wish all Americans ...</td>\n",
       "      <td>News</td>\n",
       "      <td>December 31, 2017</td>\n",
       "      <td>0</td>\n",
       "    </tr>\n",
       "    <tr>\n",
       "      <th>1</th>\n",
       "      <td>Drunk Bragging Trump Staffer Started Russian ...</td>\n",
       "      <td>House Intelligence Committee Chairman Devin Nu...</td>\n",
       "      <td>News</td>\n",
       "      <td>December 31, 2017</td>\n",
       "      <td>0</td>\n",
       "    </tr>\n",
       "    <tr>\n",
       "      <th>2</th>\n",
       "      <td>Sheriff David Clarke Becomes An Internet Joke...</td>\n",
       "      <td>On Friday, it was revealed that former Milwauk...</td>\n",
       "      <td>News</td>\n",
       "      <td>December 30, 2017</td>\n",
       "      <td>0</td>\n",
       "    </tr>\n",
       "    <tr>\n",
       "      <th>3</th>\n",
       "      <td>Trump Is So Obsessed He Even Has Obama’s Name...</td>\n",
       "      <td>On Christmas day, Donald Trump announced that ...</td>\n",
       "      <td>News</td>\n",
       "      <td>December 29, 2017</td>\n",
       "      <td>0</td>\n",
       "    </tr>\n",
       "    <tr>\n",
       "      <th>4</th>\n",
       "      <td>Pope Francis Just Called Out Donald Trump Dur...</td>\n",
       "      <td>Pope Francis used his annual Christmas Day mes...</td>\n",
       "      <td>News</td>\n",
       "      <td>December 25, 2017</td>\n",
       "      <td>0</td>\n",
       "    </tr>\n",
       "  </tbody>\n",
       "</table>\n",
       "</div>"
      ],
      "text/plain": [
       "                                               title  \\\n",
       "0   Donald Trump Sends Out Embarrassing New Year’...   \n",
       "1   Drunk Bragging Trump Staffer Started Russian ...   \n",
       "2   Sheriff David Clarke Becomes An Internet Joke...   \n",
       "3   Trump Is So Obsessed He Even Has Obama’s Name...   \n",
       "4   Pope Francis Just Called Out Donald Trump Dur...   \n",
       "\n",
       "                                                text subject  \\\n",
       "0  Donald Trump just couldn t wish all Americans ...    News   \n",
       "1  House Intelligence Committee Chairman Devin Nu...    News   \n",
       "2  On Friday, it was revealed that former Milwauk...    News   \n",
       "3  On Christmas day, Donald Trump announced that ...    News   \n",
       "4  Pope Francis used his annual Christmas Day mes...    News   \n",
       "\n",
       "                date  Target  \n",
       "0  December 31, 2017       0  \n",
       "1  December 31, 2017       0  \n",
       "2  December 30, 2017       0  \n",
       "3  December 29, 2017       0  \n",
       "4  December 25, 2017       0  "
      ]
     },
     "execution_count": 8,
     "metadata": {},
     "output_type": "execute_result"
    }
   ],
   "source": [
    "news_df.head()"
   ]
  },
  {
   "cell_type": "code",
   "execution_count": 9,
   "id": "4ebf42d5",
   "metadata": {},
   "outputs": [
    {
     "data": {
      "text/html": [
       "<div>\n",
       "<style scoped>\n",
       "    .dataframe tbody tr th:only-of-type {\n",
       "        vertical-align: middle;\n",
       "    }\n",
       "\n",
       "    .dataframe tbody tr th {\n",
       "        vertical-align: top;\n",
       "    }\n",
       "\n",
       "    .dataframe thead th {\n",
       "        text-align: right;\n",
       "    }\n",
       "</style>\n",
       "<table border=\"1\" class=\"dataframe\">\n",
       "  <thead>\n",
       "    <tr style=\"text-align: right;\">\n",
       "      <th></th>\n",
       "      <th>title</th>\n",
       "      <th>text</th>\n",
       "      <th>subject</th>\n",
       "      <th>date</th>\n",
       "      <th>Target</th>\n",
       "    </tr>\n",
       "  </thead>\n",
       "  <tbody>\n",
       "    <tr>\n",
       "      <th>21412</th>\n",
       "      <td>'Fully committed' NATO backs new U.S. approach...</td>\n",
       "      <td>BRUSSELS (Reuters) - NATO allies on Tuesday we...</td>\n",
       "      <td>worldnews</td>\n",
       "      <td>August 22, 2017</td>\n",
       "      <td>1</td>\n",
       "    </tr>\n",
       "    <tr>\n",
       "      <th>21413</th>\n",
       "      <td>LexisNexis withdrew two products from Chinese ...</td>\n",
       "      <td>LONDON (Reuters) - LexisNexis, a provider of l...</td>\n",
       "      <td>worldnews</td>\n",
       "      <td>August 22, 2017</td>\n",
       "      <td>1</td>\n",
       "    </tr>\n",
       "    <tr>\n",
       "      <th>21414</th>\n",
       "      <td>Minsk cultural hub becomes haven from authorities</td>\n",
       "      <td>MINSK (Reuters) - In the shadow of disused Sov...</td>\n",
       "      <td>worldnews</td>\n",
       "      <td>August 22, 2017</td>\n",
       "      <td>1</td>\n",
       "    </tr>\n",
       "    <tr>\n",
       "      <th>21415</th>\n",
       "      <td>Vatican upbeat on possibility of Pope Francis ...</td>\n",
       "      <td>MOSCOW (Reuters) - Vatican Secretary of State ...</td>\n",
       "      <td>worldnews</td>\n",
       "      <td>August 22, 2017</td>\n",
       "      <td>1</td>\n",
       "    </tr>\n",
       "    <tr>\n",
       "      <th>21416</th>\n",
       "      <td>Indonesia to buy $1.14 billion worth of Russia...</td>\n",
       "      <td>JAKARTA (Reuters) - Indonesia will buy 11 Sukh...</td>\n",
       "      <td>worldnews</td>\n",
       "      <td>August 22, 2017</td>\n",
       "      <td>1</td>\n",
       "    </tr>\n",
       "  </tbody>\n",
       "</table>\n",
       "</div>"
      ],
      "text/plain": [
       "                                                   title  \\\n",
       "21412  'Fully committed' NATO backs new U.S. approach...   \n",
       "21413  LexisNexis withdrew two products from Chinese ...   \n",
       "21414  Minsk cultural hub becomes haven from authorities   \n",
       "21415  Vatican upbeat on possibility of Pope Francis ...   \n",
       "21416  Indonesia to buy $1.14 billion worth of Russia...   \n",
       "\n",
       "                                                    text    subject  \\\n",
       "21412  BRUSSELS (Reuters) - NATO allies on Tuesday we...  worldnews   \n",
       "21413  LONDON (Reuters) - LexisNexis, a provider of l...  worldnews   \n",
       "21414  MINSK (Reuters) - In the shadow of disused Sov...  worldnews   \n",
       "21415  MOSCOW (Reuters) - Vatican Secretary of State ...  worldnews   \n",
       "21416  JAKARTA (Reuters) - Indonesia will buy 11 Sukh...  worldnews   \n",
       "\n",
       "                   date  Target  \n",
       "21412  August 22, 2017        1  \n",
       "21413  August 22, 2017        1  \n",
       "21414  August 22, 2017        1  \n",
       "21415  August 22, 2017        1  \n",
       "21416  August 22, 2017        1  "
      ]
     },
     "execution_count": 9,
     "metadata": {},
     "output_type": "execute_result"
    }
   ],
   "source": [
    "news_df.tail()"
   ]
  },
  {
   "cell_type": "markdown",
   "id": "048f357e",
   "metadata": {},
   "source": [
    "## Check for missing values"
   ]
  },
  {
   "cell_type": "code",
   "execution_count": 10,
   "id": "6b590ffa",
   "metadata": {
    "scrolled": false
   },
   "outputs": [
    {
     "name": "stdout",
     "output_type": "stream",
     "text": [
      "<class 'pandas.core.frame.DataFrame'>\n",
      "Int64Index: 44898 entries, 0 to 21416\n",
      "Data columns (total 5 columns):\n",
      " #   Column   Non-Null Count  Dtype \n",
      "---  ------   --------------  ----- \n",
      " 0   title    44898 non-null  object\n",
      " 1   text     44898 non-null  object\n",
      " 2   subject  44898 non-null  object\n",
      " 3   date     44898 non-null  object\n",
      " 4   Target   44898 non-null  int64 \n",
      "dtypes: int64(1), object(4)\n",
      "memory usage: 2.1+ MB\n"
     ]
    }
   ],
   "source": [
    "news_df.info()"
   ]
  },
  {
   "cell_type": "code",
   "execution_count": 11,
   "id": "52672b58",
   "metadata": {
    "scrolled": true
   },
   "outputs": [
    {
     "data": {
      "text/plain": [
       "title      0\n",
       "text       0\n",
       "subject    0\n",
       "date       0\n",
       "Target     0\n",
       "dtype: int64"
      ]
     },
     "execution_count": 11,
     "metadata": {},
     "output_type": "execute_result"
    }
   ],
   "source": [
    "news_df.isnull().sum()"
   ]
  },
  {
   "cell_type": "markdown",
   "id": "5e11b74a",
   "metadata": {},
   "source": [
    "The dataset does not contain null values"
   ]
  },
  {
   "cell_type": "markdown",
   "id": "4955726a",
   "metadata": {},
   "source": [
    "For this analysis, I will exclude the date information and perform feature engineering on the text fields only. For further optimization of the models, I would include date information in the feature engineering process."
   ]
  },
  {
   "cell_type": "code",
   "execution_count": 10,
   "id": "528e72d7",
   "metadata": {},
   "outputs": [],
   "source": [
    "news_df.drop(columns = 'date', inplace = True)"
   ]
  },
  {
   "cell_type": "markdown",
   "id": "926d0669",
   "metadata": {},
   "source": [
    "## Target Balance"
   ]
  },
  {
   "cell_type": "code",
   "execution_count": 11,
   "id": "90fd0643",
   "metadata": {
    "scrolled": false
   },
   "outputs": [
    {
     "data": {
      "text/plain": [
       "<AxesSubplot:xlabel='Target', ylabel='count'>"
      ]
     },
     "execution_count": 11,
     "metadata": {},
     "output_type": "execute_result"
    },
    {
     "data": {
      "image/png": "[encoded data removed]",
      "text/plain": [
       "<Figure size 432x288 with 1 Axes>"
      ]
     },
     "metadata": {
      "needs_background": "light"
     },
     "output_type": "display_data"
    }
   ],
   "source": [
    "sns.countplot(x = news_df.Target)"
   ]
  },
  {
   "cell_type": "markdown",
   "id": "84a4cfef",
   "metadata": {},
   "source": [
    "The dataset is balanced, since there are similar amounts of true and fake news data."
   ]
  },
  {
   "cell_type": "markdown",
   "id": "060b58ba",
   "metadata": {},
   "source": [
    "## Subject distribution"
   ]
  },
  {
   "cell_type": "code",
   "execution_count": 12,
   "id": "939d6252",
   "metadata": {
    "scrolled": true
   },
   "outputs": [
    {
     "data": {
      "text/plain": [
       "[Text(0, 0, 'News'),\n",
       " Text(1, 0, 'politics'),\n",
       " Text(2, 0, 'Government News'),\n",
       " Text(3, 0, 'left-news'),\n",
       " Text(4, 0, 'US_News'),\n",
       " Text(5, 0, 'Middle-east'),\n",
       " Text(6, 0, 'politicsNews'),\n",
       " Text(7, 0, 'worldnews')]"
      ]
     },
     "execution_count": 12,
     "metadata": {},
     "output_type": "execute_result"
    },
    {
     "data": {
      "image/png": "[encoded data removed]",
      "text/plain": [
       "<Figure size 432x288 with 1 Axes>"
      ]
     },
     "metadata": {
      "needs_background": "light"
     },
     "output_type": "display_data"
    }
   ],
   "source": [
    "ax = sns.countplot(x = news_df.subject, hue = news_df.Target)\n",
    "ax.set_xticklabels(ax.get_xticklabels(),rotation=45)"
   ]
  },
  {
   "cell_type": "markdown",
   "id": "6f8bff12",
   "metadata": {},
   "source": [
    "Because the subjects are different for Fake news (0) and True news (1) entries in the dataframe, the subject column is excluded from the dataframe."
   ]
  },
  {
   "cell_type": "markdown",
   "id": "8e790382",
   "metadata": {},
   "source": [
    "## Merge the text body and title"
   ]
  },
  {
   "cell_type": "markdown",
   "id": "acfb8d34",
   "metadata": {},
   "source": [
    "As both the title and the body of the text can contain valuable information to distinguish fake news from real news, I will concatenate the title and text columns into a single text column. "
   ]
  },
  {
   "cell_type": "code",
   "execution_count": 13,
   "id": "75662a7e",
   "metadata": {},
   "outputs": [],
   "source": [
    "news_df.text = news_df['text'] + \" \" + news_df['title']"
   ]
  },
  {
   "cell_type": "code",
   "execution_count": 14,
   "id": "a0a2fa69",
   "metadata": {},
   "outputs": [],
   "source": [
    "news_df.drop(columns='title', inplace = True)"
   ]
  },
  {
   "cell_type": "code",
   "execution_count": 15,
   "id": "9c64383d",
   "metadata": {},
   "outputs": [
    {
     "data": {
      "text/html": [
       "<div>\n",
       "<style scoped>\n",
       "    .dataframe tbody tr th:only-of-type {\n",
       "        vertical-align: middle;\n",
       "    }\n",
       "\n",
       "    .dataframe tbody tr th {\n",
       "        vertical-align: top;\n",
       "    }\n",
       "\n",
       "    .dataframe thead th {\n",
       "        text-align: right;\n",
       "    }\n",
       "</style>\n",
       "<table border=\"1\" class=\"dataframe\">\n",
       "  <thead>\n",
       "    <tr style=\"text-align: right;\">\n",
       "      <th></th>\n",
       "      <th>text</th>\n",
       "      <th>subject</th>\n",
       "      <th>Target</th>\n",
       "    </tr>\n",
       "  </thead>\n",
       "  <tbody>\n",
       "    <tr>\n",
       "      <th>0</th>\n",
       "      <td>Donald Trump just couldn t wish all Americans ...</td>\n",
       "      <td>News</td>\n",
       "      <td>0</td>\n",
       "    </tr>\n",
       "    <tr>\n",
       "      <th>1</th>\n",
       "      <td>House Intelligence Committee Chairman Devin Nu...</td>\n",
       "      <td>News</td>\n",
       "      <td>0</td>\n",
       "    </tr>\n",
       "    <tr>\n",
       "      <th>2</th>\n",
       "      <td>On Friday, it was revealed that former Milwauk...</td>\n",
       "      <td>News</td>\n",
       "      <td>0</td>\n",
       "    </tr>\n",
       "    <tr>\n",
       "      <th>3</th>\n",
       "      <td>On Christmas day, Donald Trump announced that ...</td>\n",
       "      <td>News</td>\n",
       "      <td>0</td>\n",
       "    </tr>\n",
       "    <tr>\n",
       "      <th>4</th>\n",
       "      <td>Pope Francis used his annual Christmas Day mes...</td>\n",
       "      <td>News</td>\n",
       "      <td>0</td>\n",
       "    </tr>\n",
       "    <tr>\n",
       "      <th>...</th>\n",
       "      <td>...</td>\n",
       "      <td>...</td>\n",
       "      <td>...</td>\n",
       "    </tr>\n",
       "    <tr>\n",
       "      <th>21412</th>\n",
       "      <td>BRUSSELS (Reuters) - NATO allies on Tuesday we...</td>\n",
       "      <td>worldnews</td>\n",
       "      <td>1</td>\n",
       "    </tr>\n",
       "    <tr>\n",
       "      <th>21413</th>\n",
       "      <td>LONDON (Reuters) - LexisNexis, a provider of l...</td>\n",
       "      <td>worldnews</td>\n",
       "      <td>1</td>\n",
       "    </tr>\n",
       "    <tr>\n",
       "      <th>21414</th>\n",
       "      <td>MINSK (Reuters) - In the shadow of disused Sov...</td>\n",
       "      <td>worldnews</td>\n",
       "      <td>1</td>\n",
       "    </tr>\n",
       "    <tr>\n",
       "      <th>21415</th>\n",
       "      <td>MOSCOW (Reuters) - Vatican Secretary of State ...</td>\n",
       "      <td>worldnews</td>\n",
       "      <td>1</td>\n",
       "    </tr>\n",
       "    <tr>\n",
       "      <th>21416</th>\n",
       "      <td>JAKARTA (Reuters) - Indonesia will buy 11 Sukh...</td>\n",
       "      <td>worldnews</td>\n",
       "      <td>1</td>\n",
       "    </tr>\n",
       "  </tbody>\n",
       "</table>\n",
       "<p>44898 rows × 3 columns</p>\n",
       "</div>"
      ],
      "text/plain": [
       "                                                    text    subject  Target\n",
       "0      Donald Trump just couldn t wish all Americans ...       News       0\n",
       "1      House Intelligence Committee Chairman Devin Nu...       News       0\n",
       "2      On Friday, it was revealed that former Milwauk...       News       0\n",
       "3      On Christmas day, Donald Trump announced that ...       News       0\n",
       "4      Pope Francis used his annual Christmas Day mes...       News       0\n",
       "...                                                  ...        ...     ...\n",
       "21412  BRUSSELS (Reuters) - NATO allies on Tuesday we...  worldnews       1\n",
       "21413  LONDON (Reuters) - LexisNexis, a provider of l...  worldnews       1\n",
       "21414  MINSK (Reuters) - In the shadow of disused Sov...  worldnews       1\n",
       "21415  MOSCOW (Reuters) - Vatican Secretary of State ...  worldnews       1\n",
       "21416  JAKARTA (Reuters) - Indonesia will buy 11 Sukh...  worldnews       1\n",
       "\n",
       "[44898 rows x 3 columns]"
      ]
     },
     "execution_count": 15,
     "metadata": {},
     "output_type": "execute_result"
    }
   ],
   "source": [
    "news_df"
   ]
  },
  {
   "cell_type": "markdown",
   "id": "ec7c189f",
   "metadata": {},
   "source": [
    "# Text cleaning/feature engineering"
   ]
  },
  {
   "cell_type": "markdown",
   "id": "cff46dc0",
   "metadata": {},
   "source": [
    "Visual inspection of the text entries of fake and real news shows that many true texts start with city/publisher information (e.g. 'WASHINGTON (Reuters) - '). To remove this from the body of the text, I will split off this information.\n",
    "\n",
    "Even though the analysis of punctuation, numbers and capital letters can be valuable in NLP (e.g. the use of hashtags, all caps text, twitter handles might be more common in Fake news), I will remove it for this challenge. In further optimization rounds, I would analyze the impact of punctuation, capitalization and numbers as well.\n",
    "\n",
    "I will also use a lemmatizer to stem all words to their roots.\n",
    "\n"
   ]
  },
  {
   "cell_type": "markdown",
   "id": "9ebe5311",
   "metadata": {},
   "source": [
    "## Remove publisher/city"
   ]
  },
  {
   "cell_type": "code",
   "execution_count": 16,
   "id": "e81067d6",
   "metadata": {},
   "outputs": [],
   "source": [
    "def remove_publisher(text):\n",
    "    text = text.split(\" - \", maxsplit = 1)\n",
    "    if len(text) == 2:\n",
    "        return text[1]\n",
    "    return text[0]"
   ]
  },
  {
   "cell_type": "code",
   "execution_count": 17,
   "id": "da0d4ca4",
   "metadata": {},
   "outputs": [
    {
     "data": {
      "text/html": [
       "<div>\n",
       "<style scoped>\n",
       "    .dataframe tbody tr th:only-of-type {\n",
       "        vertical-align: middle;\n",
       "    }\n",
       "\n",
       "    .dataframe tbody tr th {\n",
       "        vertical-align: top;\n",
       "    }\n",
       "\n",
       "    .dataframe thead th {\n",
       "        text-align: right;\n",
       "    }\n",
       "</style>\n",
       "<table border=\"1\" class=\"dataframe\">\n",
       "  <thead>\n",
       "    <tr style=\"text-align: right;\">\n",
       "      <th></th>\n",
       "      <th>text</th>\n",
       "      <th>subject</th>\n",
       "      <th>Target</th>\n",
       "      <th>clean_text</th>\n",
       "    </tr>\n",
       "  </thead>\n",
       "  <tbody>\n",
       "    <tr>\n",
       "      <th>21412</th>\n",
       "      <td>BRUSSELS (Reuters) - NATO allies on Tuesday we...</td>\n",
       "      <td>worldnews</td>\n",
       "      <td>1</td>\n",
       "      <td>NATO allies on Tuesday welcomed President Dona...</td>\n",
       "    </tr>\n",
       "    <tr>\n",
       "      <th>21413</th>\n",
       "      <td>LONDON (Reuters) - LexisNexis, a provider of l...</td>\n",
       "      <td>worldnews</td>\n",
       "      <td>1</td>\n",
       "      <td>LexisNexis, a provider of legal, regulatory an...</td>\n",
       "    </tr>\n",
       "    <tr>\n",
       "      <th>21414</th>\n",
       "      <td>MINSK (Reuters) - In the shadow of disused Sov...</td>\n",
       "      <td>worldnews</td>\n",
       "      <td>1</td>\n",
       "      <td>In the shadow of disused Soviet-era factories ...</td>\n",
       "    </tr>\n",
       "    <tr>\n",
       "      <th>21415</th>\n",
       "      <td>MOSCOW (Reuters) - Vatican Secretary of State ...</td>\n",
       "      <td>worldnews</td>\n",
       "      <td>1</td>\n",
       "      <td>Vatican Secretary of State Cardinal Pietro Par...</td>\n",
       "    </tr>\n",
       "    <tr>\n",
       "      <th>21416</th>\n",
       "      <td>JAKARTA (Reuters) - Indonesia will buy 11 Sukh...</td>\n",
       "      <td>worldnews</td>\n",
       "      <td>1</td>\n",
       "      <td>Indonesia will buy 11 Sukhoi fighter jets wort...</td>\n",
       "    </tr>\n",
       "  </tbody>\n",
       "</table>\n",
       "</div>"
      ],
      "text/plain": [
       "                                                    text    subject  Target  \\\n",
       "21412  BRUSSELS (Reuters) - NATO allies on Tuesday we...  worldnews       1   \n",
       "21413  LONDON (Reuters) - LexisNexis, a provider of l...  worldnews       1   \n",
       "21414  MINSK (Reuters) - In the shadow of disused Sov...  worldnews       1   \n",
       "21415  MOSCOW (Reuters) - Vatican Secretary of State ...  worldnews       1   \n",
       "21416  JAKARTA (Reuters) - Indonesia will buy 11 Sukh...  worldnews       1   \n",
       "\n",
       "                                              clean_text  \n",
       "21412  NATO allies on Tuesday welcomed President Dona...  \n",
       "21413  LexisNexis, a provider of legal, regulatory an...  \n",
       "21414  In the shadow of disused Soviet-era factories ...  \n",
       "21415  Vatican Secretary of State Cardinal Pietro Par...  \n",
       "21416  Indonesia will buy 11 Sukhoi fighter jets wort...  "
      ]
     },
     "execution_count": 17,
     "metadata": {},
     "output_type": "execute_result"
    }
   ],
   "source": [
    "news_df['clean_text'] = news_df['text'].apply(remove_publisher)\n",
    "news_df.tail()"
   ]
  },
  {
   "cell_type": "markdown",
   "id": "854b3ec2",
   "metadata": {},
   "source": [
    "## Remove punctuation"
   ]
  },
  {
   "cell_type": "code",
   "execution_count": 18,
   "id": "81d72ae3",
   "metadata": {},
   "outputs": [],
   "source": [
    "def remove_punctuation(text):\n",
    "    for punctuation in string.punctuation:\n",
    "        text = text.replace(punctuation, '')\n",
    "    return text"
   ]
  },
  {
   "cell_type": "code",
   "execution_count": 19,
   "id": "1b7d06dc",
   "metadata": {},
   "outputs": [
    {
     "data": {
      "text/html": [
       "<div>\n",
       "<style scoped>\n",
       "    .dataframe tbody tr th:only-of-type {\n",
       "        vertical-align: middle;\n",
       "    }\n",
       "\n",
       "    .dataframe tbody tr th {\n",
       "        vertical-align: top;\n",
       "    }\n",
       "\n",
       "    .dataframe thead th {\n",
       "        text-align: right;\n",
       "    }\n",
       "</style>\n",
       "<table border=\"1\" class=\"dataframe\">\n",
       "  <thead>\n",
       "    <tr style=\"text-align: right;\">\n",
       "      <th></th>\n",
       "      <th>text</th>\n",
       "      <th>subject</th>\n",
       "      <th>Target</th>\n",
       "      <th>clean_text</th>\n",
       "    </tr>\n",
       "  </thead>\n",
       "  <tbody>\n",
       "    <tr>\n",
       "      <th>21412</th>\n",
       "      <td>BRUSSELS (Reuters) - NATO allies on Tuesday we...</td>\n",
       "      <td>worldnews</td>\n",
       "      <td>1</td>\n",
       "      <td>NATO allies on Tuesday welcomed President Dona...</td>\n",
       "    </tr>\n",
       "    <tr>\n",
       "      <th>21413</th>\n",
       "      <td>LONDON (Reuters) - LexisNexis, a provider of l...</td>\n",
       "      <td>worldnews</td>\n",
       "      <td>1</td>\n",
       "      <td>LexisNexis a provider of legal regulatory and ...</td>\n",
       "    </tr>\n",
       "    <tr>\n",
       "      <th>21414</th>\n",
       "      <td>MINSK (Reuters) - In the shadow of disused Sov...</td>\n",
       "      <td>worldnews</td>\n",
       "      <td>1</td>\n",
       "      <td>In the shadow of disused Sovietera factories i...</td>\n",
       "    </tr>\n",
       "    <tr>\n",
       "      <th>21415</th>\n",
       "      <td>MOSCOW (Reuters) - Vatican Secretary of State ...</td>\n",
       "      <td>worldnews</td>\n",
       "      <td>1</td>\n",
       "      <td>Vatican Secretary of State Cardinal Pietro Par...</td>\n",
       "    </tr>\n",
       "    <tr>\n",
       "      <th>21416</th>\n",
       "      <td>JAKARTA (Reuters) - Indonesia will buy 11 Sukh...</td>\n",
       "      <td>worldnews</td>\n",
       "      <td>1</td>\n",
       "      <td>Indonesia will buy 11 Sukhoi fighter jets wort...</td>\n",
       "    </tr>\n",
       "  </tbody>\n",
       "</table>\n",
       "</div>"
      ],
      "text/plain": [
       "                                                    text    subject  Target  \\\n",
       "21412  BRUSSELS (Reuters) - NATO allies on Tuesday we...  worldnews       1   \n",
       "21413  LONDON (Reuters) - LexisNexis, a provider of l...  worldnews       1   \n",
       "21414  MINSK (Reuters) - In the shadow of disused Sov...  worldnews       1   \n",
       "21415  MOSCOW (Reuters) - Vatican Secretary of State ...  worldnews       1   \n",
       "21416  JAKARTA (Reuters) - Indonesia will buy 11 Sukh...  worldnews       1   \n",
       "\n",
       "                                              clean_text  \n",
       "21412  NATO allies on Tuesday welcomed President Dona...  \n",
       "21413  LexisNexis a provider of legal regulatory and ...  \n",
       "21414  In the shadow of disused Sovietera factories i...  \n",
       "21415  Vatican Secretary of State Cardinal Pietro Par...  \n",
       "21416  Indonesia will buy 11 Sukhoi fighter jets wort...  "
      ]
     },
     "execution_count": 19,
     "metadata": {},
     "output_type": "execute_result"
    }
   ],
   "source": [
    "news_df['clean_text'] = news_df['clean_text'].apply(remove_punctuation)\n",
    "news_df.tail()"
   ]
  },
  {
   "cell_type": "markdown",
   "id": "4578a4d5",
   "metadata": {},
   "source": [
    "## Remove numbers"
   ]
  },
  {
   "cell_type": "code",
   "execution_count": 20,
   "id": "3fdad709",
   "metadata": {},
   "outputs": [],
   "source": [
    "def remove_numbers(text):\n",
    "    text = ''.join(letter for letter in text if not letter.isdigit())\n",
    "    return text"
   ]
  },
  {
   "cell_type": "code",
   "execution_count": 21,
   "id": "db333b05",
   "metadata": {},
   "outputs": [
    {
     "data": {
      "text/html": [
       "<div>\n",
       "<style scoped>\n",
       "    .dataframe tbody tr th:only-of-type {\n",
       "        vertical-align: middle;\n",
       "    }\n",
       "\n",
       "    .dataframe tbody tr th {\n",
       "        vertical-align: top;\n",
       "    }\n",
       "\n",
       "    .dataframe thead th {\n",
       "        text-align: right;\n",
       "    }\n",
       "</style>\n",
       "<table border=\"1\" class=\"dataframe\">\n",
       "  <thead>\n",
       "    <tr style=\"text-align: right;\">\n",
       "      <th></th>\n",
       "      <th>text</th>\n",
       "      <th>subject</th>\n",
       "      <th>Target</th>\n",
       "      <th>clean_text</th>\n",
       "    </tr>\n",
       "  </thead>\n",
       "  <tbody>\n",
       "    <tr>\n",
       "      <th>21412</th>\n",
       "      <td>BRUSSELS (Reuters) - NATO allies on Tuesday we...</td>\n",
       "      <td>worldnews</td>\n",
       "      <td>1</td>\n",
       "      <td>NATO allies on Tuesday welcomed President Dona...</td>\n",
       "    </tr>\n",
       "    <tr>\n",
       "      <th>21413</th>\n",
       "      <td>LONDON (Reuters) - LexisNexis, a provider of l...</td>\n",
       "      <td>worldnews</td>\n",
       "      <td>1</td>\n",
       "      <td>LexisNexis a provider of legal regulatory and ...</td>\n",
       "    </tr>\n",
       "    <tr>\n",
       "      <th>21414</th>\n",
       "      <td>MINSK (Reuters) - In the shadow of disused Sov...</td>\n",
       "      <td>worldnews</td>\n",
       "      <td>1</td>\n",
       "      <td>In the shadow of disused Sovietera factories i...</td>\n",
       "    </tr>\n",
       "    <tr>\n",
       "      <th>21415</th>\n",
       "      <td>MOSCOW (Reuters) - Vatican Secretary of State ...</td>\n",
       "      <td>worldnews</td>\n",
       "      <td>1</td>\n",
       "      <td>Vatican Secretary of State Cardinal Pietro Par...</td>\n",
       "    </tr>\n",
       "    <tr>\n",
       "      <th>21416</th>\n",
       "      <td>JAKARTA (Reuters) - Indonesia will buy 11 Sukh...</td>\n",
       "      <td>worldnews</td>\n",
       "      <td>1</td>\n",
       "      <td>Indonesia will buy  Sukhoi fighter jets worth ...</td>\n",
       "    </tr>\n",
       "  </tbody>\n",
       "</table>\n",
       "</div>"
      ],
      "text/plain": [
       "                                                    text    subject  Target  \\\n",
       "21412  BRUSSELS (Reuters) - NATO allies on Tuesday we...  worldnews       1   \n",
       "21413  LONDON (Reuters) - LexisNexis, a provider of l...  worldnews       1   \n",
       "21414  MINSK (Reuters) - In the shadow of disused Sov...  worldnews       1   \n",
       "21415  MOSCOW (Reuters) - Vatican Secretary of State ...  worldnews       1   \n",
       "21416  JAKARTA (Reuters) - Indonesia will buy 11 Sukh...  worldnews       1   \n",
       "\n",
       "                                              clean_text  \n",
       "21412  NATO allies on Tuesday welcomed President Dona...  \n",
       "21413  LexisNexis a provider of legal regulatory and ...  \n",
       "21414  In the shadow of disused Sovietera factories i...  \n",
       "21415  Vatican Secretary of State Cardinal Pietro Par...  \n",
       "21416  Indonesia will buy  Sukhoi fighter jets worth ...  "
      ]
     },
     "execution_count": 21,
     "metadata": {},
     "output_type": "execute_result"
    }
   ],
   "source": [
    "news_df['clean_text'] = news_df['clean_text'].apply(remove_numbers)\n",
    "news_df.tail()"
   ]
  },
  {
   "cell_type": "markdown",
   "id": "887822be",
   "metadata": {},
   "source": [
    "## Lower case"
   ]
  },
  {
   "cell_type": "code",
   "execution_count": 22,
   "id": "1f787b5d",
   "metadata": {},
   "outputs": [],
   "source": [
    "def lower_case(text):\n",
    "    text = text.lower()\n",
    "    return text"
   ]
  },
  {
   "cell_type": "code",
   "execution_count": 23,
   "id": "3951bcda",
   "metadata": {},
   "outputs": [
    {
     "data": {
      "text/html": [
       "<div>\n",
       "<style scoped>\n",
       "    .dataframe tbody tr th:only-of-type {\n",
       "        vertical-align: middle;\n",
       "    }\n",
       "\n",
       "    .dataframe tbody tr th {\n",
       "        vertical-align: top;\n",
       "    }\n",
       "\n",
       "    .dataframe thead th {\n",
       "        text-align: right;\n",
       "    }\n",
       "</style>\n",
       "<table border=\"1\" class=\"dataframe\">\n",
       "  <thead>\n",
       "    <tr style=\"text-align: right;\">\n",
       "      <th></th>\n",
       "      <th>text</th>\n",
       "      <th>subject</th>\n",
       "      <th>Target</th>\n",
       "      <th>clean_text</th>\n",
       "    </tr>\n",
       "  </thead>\n",
       "  <tbody>\n",
       "    <tr>\n",
       "      <th>0</th>\n",
       "      <td>Donald Trump just couldn t wish all Americans ...</td>\n",
       "      <td>News</td>\n",
       "      <td>0</td>\n",
       "      <td>donald trump just couldn t wish all americans ...</td>\n",
       "    </tr>\n",
       "    <tr>\n",
       "      <th>1</th>\n",
       "      <td>House Intelligence Committee Chairman Devin Nu...</td>\n",
       "      <td>News</td>\n",
       "      <td>0</td>\n",
       "      <td>house intelligence committee chairman devin nu...</td>\n",
       "    </tr>\n",
       "    <tr>\n",
       "      <th>2</th>\n",
       "      <td>On Friday, it was revealed that former Milwauk...</td>\n",
       "      <td>News</td>\n",
       "      <td>0</td>\n",
       "      <td>on friday it was revealed that former milwauke...</td>\n",
       "    </tr>\n",
       "    <tr>\n",
       "      <th>3</th>\n",
       "      <td>On Christmas day, Donald Trump announced that ...</td>\n",
       "      <td>News</td>\n",
       "      <td>0</td>\n",
       "      <td>on christmas day donald trump announced that h...</td>\n",
       "    </tr>\n",
       "    <tr>\n",
       "      <th>4</th>\n",
       "      <td>Pope Francis used his annual Christmas Day mes...</td>\n",
       "      <td>News</td>\n",
       "      <td>0</td>\n",
       "      <td>pope francis used his annual christmas day mes...</td>\n",
       "    </tr>\n",
       "  </tbody>\n",
       "</table>\n",
       "</div>"
      ],
      "text/plain": [
       "                                                text subject  Target  \\\n",
       "0  Donald Trump just couldn t wish all Americans ...    News       0   \n",
       "1  House Intelligence Committee Chairman Devin Nu...    News       0   \n",
       "2  On Friday, it was revealed that former Milwauk...    News       0   \n",
       "3  On Christmas day, Donald Trump announced that ...    News       0   \n",
       "4  Pope Francis used his annual Christmas Day mes...    News       0   \n",
       "\n",
       "                                          clean_text  \n",
       "0  donald trump just couldn t wish all americans ...  \n",
       "1  house intelligence committee chairman devin nu...  \n",
       "2  on friday it was revealed that former milwauke...  \n",
       "3  on christmas day donald trump announced that h...  \n",
       "4  pope francis used his annual christmas day mes...  "
      ]
     },
     "execution_count": 23,
     "metadata": {},
     "output_type": "execute_result"
    }
   ],
   "source": [
    "news_df['clean_text'] = news_df['clean_text'].apply(lower_case)\n",
    "news_df.head()"
   ]
  },
  {
   "cell_type": "markdown",
   "id": "cba08d8c",
   "metadata": {},
   "source": [
    "## Remove Stopwords "
   ]
  },
  {
   "cell_type": "code",
   "execution_count": 24,
   "id": "5e2a67cf",
   "metadata": {},
   "outputs": [],
   "source": [
    "def remove_stopwords(text):\n",
    "    stop_words = set(stopwords.words('english'))\n",
    "    word_tokens = word_tokenize(text)\n",
    "    text = [w for w in word_tokens if not w in stop_words]\n",
    "    return text"
   ]
  },
  {
   "cell_type": "code",
   "execution_count": 25,
   "id": "7d924d86",
   "metadata": {},
   "outputs": [
    {
     "data": {
      "text/html": [
       "<div>\n",
       "<style scoped>\n",
       "    .dataframe tbody tr th:only-of-type {\n",
       "        vertical-align: middle;\n",
       "    }\n",
       "\n",
       "    .dataframe tbody tr th {\n",
       "        vertical-align: top;\n",
       "    }\n",
       "\n",
       "    .dataframe thead th {\n",
       "        text-align: right;\n",
       "    }\n",
       "</style>\n",
       "<table border=\"1\" class=\"dataframe\">\n",
       "  <thead>\n",
       "    <tr style=\"text-align: right;\">\n",
       "      <th></th>\n",
       "      <th>text</th>\n",
       "      <th>subject</th>\n",
       "      <th>Target</th>\n",
       "      <th>clean_text</th>\n",
       "    </tr>\n",
       "  </thead>\n",
       "  <tbody>\n",
       "    <tr>\n",
       "      <th>0</th>\n",
       "      <td>Donald Trump just couldn t wish all Americans ...</td>\n",
       "      <td>News</td>\n",
       "      <td>0</td>\n",
       "      <td>[donald, trump, wish, americans, happy, new, y...</td>\n",
       "    </tr>\n",
       "    <tr>\n",
       "      <th>1</th>\n",
       "      <td>House Intelligence Committee Chairman Devin Nu...</td>\n",
       "      <td>News</td>\n",
       "      <td>0</td>\n",
       "      <td>[house, intelligence, committee, chairman, dev...</td>\n",
       "    </tr>\n",
       "    <tr>\n",
       "      <th>2</th>\n",
       "      <td>On Friday, it was revealed that former Milwauk...</td>\n",
       "      <td>News</td>\n",
       "      <td>0</td>\n",
       "      <td>[friday, revealed, former, milwaukee, sheriff,...</td>\n",
       "    </tr>\n",
       "    <tr>\n",
       "      <th>3</th>\n",
       "      <td>On Christmas day, Donald Trump announced that ...</td>\n",
       "      <td>News</td>\n",
       "      <td>0</td>\n",
       "      <td>[christmas, day, donald, trump, announced, wou...</td>\n",
       "    </tr>\n",
       "    <tr>\n",
       "      <th>4</th>\n",
       "      <td>Pope Francis used his annual Christmas Day mes...</td>\n",
       "      <td>News</td>\n",
       "      <td>0</td>\n",
       "      <td>[pope, francis, used, annual, christmas, day, ...</td>\n",
       "    </tr>\n",
       "  </tbody>\n",
       "</table>\n",
       "</div>"
      ],
      "text/plain": [
       "                                                text subject  Target  \\\n",
       "0  Donald Trump just couldn t wish all Americans ...    News       0   \n",
       "1  House Intelligence Committee Chairman Devin Nu...    News       0   \n",
       "2  On Friday, it was revealed that former Milwauk...    News       0   \n",
       "3  On Christmas day, Donald Trump announced that ...    News       0   \n",
       "4  Pope Francis used his annual Christmas Day mes...    News       0   \n",
       "\n",
       "                                          clean_text  \n",
       "0  [donald, trump, wish, americans, happy, new, y...  \n",
       "1  [house, intelligence, committee, chairman, dev...  \n",
       "2  [friday, revealed, former, milwaukee, sheriff,...  \n",
       "3  [christmas, day, donald, trump, announced, wou...  \n",
       "4  [pope, francis, used, annual, christmas, day, ...  "
      ]
     },
     "execution_count": 25,
     "metadata": {},
     "output_type": "execute_result"
    }
   ],
   "source": [
    "news_df['clean_text'] = news_df['clean_text'].apply(remove_stopwords)\n",
    "news_df.head()"
   ]
  },
  {
   "cell_type": "markdown",
   "id": "6cf2730d",
   "metadata": {},
   "source": [
    "## Lemmatizing"
   ]
  },
  {
   "cell_type": "code",
   "execution_count": 26,
   "id": "5deb0116",
   "metadata": {},
   "outputs": [],
   "source": [
    "def lemmatize(text):\n",
    "    lemmatizer = WordNetLemmatizer()\n",
    "    lemmatized = [lemmatizer.lemmatize(word) for word in text]\n",
    "    return lemmatized"
   ]
  },
  {
   "cell_type": "code",
   "execution_count": 27,
   "id": "315773a6",
   "metadata": {},
   "outputs": [
    {
     "data": {
      "text/html": [
       "<div>\n",
       "<style scoped>\n",
       "    .dataframe tbody tr th:only-of-type {\n",
       "        vertical-align: middle;\n",
       "    }\n",
       "\n",
       "    .dataframe tbody tr th {\n",
       "        vertical-align: top;\n",
       "    }\n",
       "\n",
       "    .dataframe thead th {\n",
       "        text-align: right;\n",
       "    }\n",
       "</style>\n",
       "<table border=\"1\" class=\"dataframe\">\n",
       "  <thead>\n",
       "    <tr style=\"text-align: right;\">\n",
       "      <th></th>\n",
       "      <th>text</th>\n",
       "      <th>subject</th>\n",
       "      <th>Target</th>\n",
       "      <th>clean_text</th>\n",
       "    </tr>\n",
       "  </thead>\n",
       "  <tbody>\n",
       "    <tr>\n",
       "      <th>21412</th>\n",
       "      <td>BRUSSELS (Reuters) - NATO allies on Tuesday we...</td>\n",
       "      <td>worldnews</td>\n",
       "      <td>1</td>\n",
       "      <td>[nato, ally, tuesday, welcomed, president, don...</td>\n",
       "    </tr>\n",
       "    <tr>\n",
       "      <th>21413</th>\n",
       "      <td>LONDON (Reuters) - LexisNexis, a provider of l...</td>\n",
       "      <td>worldnews</td>\n",
       "      <td>1</td>\n",
       "      <td>[lexisnexis, provider, legal, regulatory, busi...</td>\n",
       "    </tr>\n",
       "    <tr>\n",
       "      <th>21414</th>\n",
       "      <td>MINSK (Reuters) - In the shadow of disused Sov...</td>\n",
       "      <td>worldnews</td>\n",
       "      <td>1</td>\n",
       "      <td>[shadow, disused, sovietera, factory, minsk, s...</td>\n",
       "    </tr>\n",
       "    <tr>\n",
       "      <th>21415</th>\n",
       "      <td>MOSCOW (Reuters) - Vatican Secretary of State ...</td>\n",
       "      <td>worldnews</td>\n",
       "      <td>1</td>\n",
       "      <td>[vatican, secretary, state, cardinal, pietro, ...</td>\n",
       "    </tr>\n",
       "    <tr>\n",
       "      <th>21416</th>\n",
       "      <td>JAKARTA (Reuters) - Indonesia will buy 11 Sukh...</td>\n",
       "      <td>worldnews</td>\n",
       "      <td>1</td>\n",
       "      <td>[indonesia, buy, sukhoi, fighter, jet, worth, ...</td>\n",
       "    </tr>\n",
       "  </tbody>\n",
       "</table>\n",
       "</div>"
      ],
      "text/plain": [
       "                                                    text    subject  Target  \\\n",
       "21412  BRUSSELS (Reuters) - NATO allies on Tuesday we...  worldnews       1   \n",
       "21413  LONDON (Reuters) - LexisNexis, a provider of l...  worldnews       1   \n",
       "21414  MINSK (Reuters) - In the shadow of disused Sov...  worldnews       1   \n",
       "21415  MOSCOW (Reuters) - Vatican Secretary of State ...  worldnews       1   \n",
       "21416  JAKARTA (Reuters) - Indonesia will buy 11 Sukh...  worldnews       1   \n",
       "\n",
       "                                              clean_text  \n",
       "21412  [nato, ally, tuesday, welcomed, president, don...  \n",
       "21413  [lexisnexis, provider, legal, regulatory, busi...  \n",
       "21414  [shadow, disused, sovietera, factory, minsk, s...  \n",
       "21415  [vatican, secretary, state, cardinal, pietro, ...  \n",
       "21416  [indonesia, buy, sukhoi, fighter, jet, worth, ...  "
      ]
     },
     "execution_count": 27,
     "metadata": {},
     "output_type": "execute_result"
    }
   ],
   "source": [
    "news_df['clean_text'] = news_df['clean_text'].apply(lemmatize)\n",
    "news_df.tail()"
   ]
  },
  {
   "cell_type": "markdown",
   "id": "3c4c3c23",
   "metadata": {},
   "source": [
    "# Train/test split"
   ]
  },
  {
   "cell_type": "code",
   "execution_count": 28,
   "id": "ceb5c2d6",
   "metadata": {},
   "outputs": [],
   "source": [
    "X_train, X_test, y_train, y_test = train_test_split(news_df.clean_text, news_df.Target, random_state=0)"
   ]
  },
  {
   "cell_type": "code",
   "execution_count": 29,
   "id": "6a779da6",
   "metadata": {
    "scrolled": true
   },
   "outputs": [
    {
     "name": "stdout",
     "output_type": "stream",
     "text": [
      "(33673,)\n",
      "(33673,)\n",
      "(11225,)\n",
      "(11225,)\n"
     ]
    }
   ],
   "source": [
    "print(X_train.shape)\n",
    "print(y_train.shape)\n",
    "print(X_test.shape)\n",
    "print(y_test.shape)"
   ]
  },
  {
   "cell_type": "markdown",
   "id": "d4aae37d",
   "metadata": {},
   "source": [
    "# NLP models"
   ]
  },
  {
   "cell_type": "markdown",
   "id": "0779ac5f",
   "metadata": {},
   "source": [
    "## RNN (LSTM) "
   ]
  },
  {
   "cell_type": "markdown",
   "id": "02f67762",
   "metadata": {},
   "source": [
    "### Word2Vec Embedding"
   ]
  },
  {
   "cell_type": "code",
   "execution_count": 30,
   "id": "1dcb1240",
   "metadata": {},
   "outputs": [],
   "source": [
    "word2vec = Word2Vec(sentences = X_train)"
   ]
  },
  {
   "cell_type": "code",
   "execution_count": 31,
   "id": "a62ded2a",
   "metadata": {},
   "outputs": [],
   "source": [
    "def embed_sentence(word2vec, sentence):\n",
    "    concat =  [word2vec.wv[word] for word in sentence if word in word2vec.wv ]\n",
    "    return np.array(concat)"
   ]
  },
  {
   "cell_type": "code",
   "execution_count": 32,
   "id": "15a399ef",
   "metadata": {},
   "outputs": [],
   "source": [
    "def embedding(word2vec, sentences):\n",
    "    concat = [embed_sentence(word2vec, sentence) for sentence in sentences]\n",
    "    return concat"
   ]
  },
  {
   "cell_type": "markdown",
   "id": "1403ec1a",
   "metadata": {},
   "source": [
    "Confirm that closely related words are also close in the word2vec embedding space:"
   ]
  },
  {
   "cell_type": "code",
   "execution_count": 33,
   "id": "81f86aa2",
   "metadata": {
    "scrolled": true
   },
   "outputs": [
    {
     "data": {
      "text/plain": [
       "[('ballot', 0.6858223080635071),\n",
       " ('voted', 0.6797436475753784),\n",
       " ('voting', 0.6679921746253967),\n",
       " ('margin', 0.6165478229522705),\n",
       " ('win', 0.5822102427482605),\n",
       " ('overwhelmingly', 0.572297215461731),\n",
       " ('electoral', 0.5650050044059753),\n",
       " ('voter', 0.548642635345459),\n",
       " ('landslide', 0.5474008917808533),\n",
       " ('referendum', 0.5391635298728943)]"
      ]
     },
     "execution_count": 33,
     "metadata": {},
     "output_type": "execute_result"
    }
   ],
   "source": [
    "word2vec.wv.most_similar('vote')"
   ]
  },
  {
   "cell_type": "code",
   "execution_count": 34,
   "id": "84620e10",
   "metadata": {
    "scrolled": true
   },
   "outputs": [
    {
     "data": {
      "text/plain": [
       "[('trump', 0.5257687568664551),\n",
       " ('democratic', 0.4611564576625824),\n",
       " ('obama', 0.41063418984413147),\n",
       " ('vladimir', 0.36367183923721313),\n",
       " ('clinton', 0.3518078029155731),\n",
       " ('incoming', 0.3456704318523407),\n",
       " ('presumptive', 0.33956947922706604),\n",
       " ('obamatrump', 0.3325781226158142),\n",
       " ('maduro', 0.3225840926170349),\n",
       " ('communist', 0.3190583288669586)]"
      ]
     },
     "execution_count": 34,
     "metadata": {},
     "output_type": "execute_result"
    }
   ],
   "source": [
    "word2vec.wv.similar_by_vector(word2vec.wv['democratic'] - word2vec.wv['republican'] + word2vec.wv['trump'])"
   ]
  },
  {
   "cell_type": "markdown",
   "id": "85866416",
   "metadata": {},
   "source": [
    "word2vec embedding of the train and test data:"
   ]
  },
  {
   "cell_type": "code",
   "execution_count": 35,
   "id": "9a8f4146",
   "metadata": {},
   "outputs": [],
   "source": [
    "X_train_embed = embedding(word2vec, X_train)\n",
    "X_test_embed = embedding(word2vec, X_test)"
   ]
  },
  {
   "cell_type": "markdown",
   "id": "81916284",
   "metadata": {},
   "source": [
    "### Padding"
   ]
  },
  {
   "cell_type": "markdown",
   "id": "bab06311",
   "metadata": {},
   "source": [
    "Analyze the length of texts to determine padding size:"
   ]
  },
  {
   "cell_type": "code",
   "execution_count": 36,
   "id": "bd6e9af0",
   "metadata": {},
   "outputs": [
    {
     "data": {
      "image/png": "[encoded data removed]",
      "text/plain": [
       "<Figure size 864x576 with 2 Axes>"
      ]
     },
     "metadata": {
      "needs_background": "light"
     },
     "output_type": "display_data"
    }
   ],
   "source": [
    "fig,(ax1,ax2)=plt.subplots(1,2,figsize=(12,8))\n",
    "\n",
    "text_len_true=news_df[news_df['Target']==1]['text'].str.split().map(lambda x: len(x))\n",
    "text_len_fake=news_df[news_df['Target']==0]['text'].str.split().map(lambda x: len(x))\n",
    "\n",
    "ax1.hist(text_len_true,color='lightblue',bins = 10)\n",
    "ax1.set_title('Original text')\n",
    "\n",
    "ax2.hist(text_len_fake,color='orange', bins = 10)\n",
    "ax2.set_title('Fake text')\n",
    "\n",
    "fig.suptitle('Characters in texts')\n",
    "\n",
    "plt.show()"
   ]
  },
  {
   "cell_type": "markdown",
   "id": "9a9206f8",
   "metadata": {},
   "source": [
    "As shown in the graph, majority of the text entries contain less that 500 words (both for True and Fake texts). Therefore I will limit the number of words to be embedded to 500, truncating texts with more than 500 words and padding text with less that 500 words."
   ]
  },
  {
   "cell_type": "code",
   "execution_count": 37,
   "id": "cb2f716f",
   "metadata": {},
   "outputs": [
    {
     "name": "stdout",
     "output_type": "stream",
     "text": [
      "(33673, 500, 100)\n",
      "(11225, 500, 100)\n"
     ]
    }
   ],
   "source": [
    "X_train_pad = pad_sequences(X_train_embed, dtype='float32', padding='post', value=0, maxlen=500)\n",
    "X_test_pad = pad_sequences(X_test_embed, dtype='float32', padding='post', value=0, maxlen=500)\n",
    "\n",
    "print(X_train_pad.shape)\n",
    "print(X_test_pad.shape)"
   ]
  },
  {
   "cell_type": "markdown",
   "id": "d9398edd",
   "metadata": {},
   "source": [
    "### Build the RNN model"
   ]
  },
  {
   "cell_type": "markdown",
   "id": "6bdf632c",
   "metadata": {},
   "source": [
    "For this exercise, I will use a 'simple' neural network with a single LSTM layer consisting of 15 neurons and a final Dense layer with sigmoid activation as it is a 2 category classification task. A masking layer is also included in order to ignore 0 values resulting from the padding."
   ]
  },
  {
   "cell_type": "code",
   "execution_count": 38,
   "id": "3012152a",
   "metadata": {},
   "outputs": [
    {
     "name": "stderr",
     "output_type": "stream",
     "text": [
      "2022-01-26 17:28:44.443855: I tensorflow/core/platform/cpu_feature_guard.cc:151] This TensorFlow binary is optimized with oneAPI Deep Neural Network Library (oneDNN) to use the following CPU instructions in performance-critical operations:  AVX2 FMA\n",
      "To enable them in other operations, rebuild TensorFlow with the appropriate compiler flags.\n"
     ]
    }
   ],
   "source": [
    "from tensorflow.keras import layers, Sequential\n",
    "\n",
    "rnn = Sequential([\n",
    "    layers.Masking(mask_value=0),\n",
    "    layers.LSTM(15),\n",
    "    layers.Dense(1, activation=\"sigmoid\")\n",
    "])\n",
    "\n",
    "rnn.compile(loss='binary_crossentropy',\n",
    "              optimizer='rmsprop',\n",
    "              metrics=['accuracy'])"
   ]
  },
  {
   "cell_type": "markdown",
   "id": "c89fd431",
   "metadata": {},
   "source": [
    "### Train the RNN model"
   ]
  },
  {
   "cell_type": "markdown",
   "id": "ac1f2ccb",
   "metadata": {},
   "source": [
    "To reduce computation time, I will use a batch_size of 256. In addition, I'll implement an early stopping criterion to prevent overfitting. To prevent data leakage, I'm including a validation set for the training of the model (30% split of the training data)."
   ]
  },
  {
   "cell_type": "code",
   "execution_count": 39,
   "id": "64590202",
   "metadata": {
    "scrolled": false
   },
   "outputs": [
    {
     "name": "stdout",
     "output_type": "stream",
     "text": [
      "Epoch 1/200\n",
      "93/93 [==============================] - 65s 566ms/step - loss: 0.3654 - accuracy: 0.8584 - val_loss: 0.1686 - val_accuracy: 0.9494\n",
      "Epoch 2/200\n",
      "93/93 [==============================] - 42s 445ms/step - loss: 0.1218 - accuracy: 0.9622 - val_loss: 0.0867 - val_accuracy: 0.9738\n",
      "Epoch 3/200\n",
      "93/93 [==============================] - 40s 428ms/step - loss: 0.0742 - accuracy: 0.9778 - val_loss: 0.0623 - val_accuracy: 0.9800\n",
      "Epoch 4/200\n",
      "93/93 [==============================] - 40s 431ms/step - loss: 0.0540 - accuracy: 0.9841 - val_loss: 0.0527 - val_accuracy: 0.9835\n",
      "Epoch 5/200\n",
      "93/93 [==============================] - 45s 488ms/step - loss: 0.0434 - accuracy: 0.9871 - val_loss: 0.0455 - val_accuracy: 0.9859\n",
      "Epoch 6/200\n",
      "93/93 [==============================] - 43s 466ms/step - loss: 0.0344 - accuracy: 0.9902 - val_loss: 0.0483 - val_accuracy: 0.9853\n",
      "Epoch 7/200\n",
      "93/93 [==============================] - 45s 482ms/step - loss: 0.0283 - accuracy: 0.9917 - val_loss: 0.0439 - val_accuracy: 0.9869\n",
      "Epoch 8/200\n",
      "93/93 [==============================] - 44s 474ms/step - loss: 0.0224 - accuracy: 0.9939 - val_loss: 0.0347 - val_accuracy: 0.9902\n",
      "Epoch 9/200\n",
      "93/93 [==============================] - 44s 469ms/step - loss: 0.0189 - accuracy: 0.9952 - val_loss: 0.0319 - val_accuracy: 0.9905\n",
      "Epoch 10/200\n",
      "93/93 [==============================] - 44s 470ms/step - loss: 0.0151 - accuracy: 0.9958 - val_loss: 0.0319 - val_accuracy: 0.9909\n",
      "Epoch 11/200\n",
      "93/93 [==============================] - 45s 485ms/step - loss: 0.0125 - accuracy: 0.9973 - val_loss: 0.0338 - val_accuracy: 0.9896\n",
      "Epoch 12/200\n",
      "93/93 [==============================] - 52s 560ms/step - loss: 0.0098 - accuracy: 0.9979 - val_loss: 0.0412 - val_accuracy: 0.9876\n",
      "Epoch 13/200\n",
      "93/93 [==============================] - 51s 539ms/step - loss: 0.0085 - accuracy: 0.9983 - val_loss: 0.0342 - val_accuracy: 0.9904\n",
      "Epoch 14/200\n",
      "93/93 [==============================] - 49s 530ms/step - loss: 0.0070 - accuracy: 0.9985 - val_loss: 0.0313 - val_accuracy: 0.9911\n",
      "Epoch 15/200\n",
      "93/93 [==============================] - 44s 475ms/step - loss: 0.0058 - accuracy: 0.9989 - val_loss: 0.0307 - val_accuracy: 0.9913\n",
      "Epoch 16/200\n",
      "93/93 [==============================] - 44s 471ms/step - loss: 0.0052 - accuracy: 0.9989 - val_loss: 0.0316 - val_accuracy: 0.9919\n",
      "Epoch 17/200\n",
      "93/93 [==============================] - 49s 525ms/step - loss: 0.0050 - accuracy: 0.9988 - val_loss: 0.0313 - val_accuracy: 0.9913\n",
      "Epoch 18/200\n",
      "93/93 [==============================] - 45s 489ms/step - loss: 0.0037 - accuracy: 0.9992 - val_loss: 0.0319 - val_accuracy: 0.9912\n",
      "Epoch 19/200\n",
      "93/93 [==============================] - 41s 438ms/step - loss: 0.0032 - accuracy: 0.9993 - val_loss: 0.0316 - val_accuracy: 0.9916\n",
      "Epoch 20/200\n",
      "93/93 [==============================] - 41s 445ms/step - loss: 0.0029 - accuracy: 0.9993 - val_loss: 0.0324 - val_accuracy: 0.9919\n"
     ]
    }
   ],
   "source": [
    "from tensorflow.keras import callbacks\n",
    "\n",
    "es = callbacks.EarlyStopping(patience=5, \n",
    "                             restore_best_weights=True)\n",
    "\n",
    "history_rnn = rnn.fit(X_train_pad, y_train, \n",
    "                  epochs=200, \n",
    "                  batch_size=256, \n",
    "                  validation_split = 0.3, \n",
    "                  callbacks = es, \n",
    "                  verbose=1)"
   ]
  },
  {
   "cell_type": "code",
   "execution_count": 40,
   "id": "9acfe5a8",
   "metadata": {},
   "outputs": [
    {
     "name": "stdout",
     "output_type": "stream",
     "text": [
      "Model: \"sequential\"\n",
      "_________________________________________________________________\n",
      " Layer (type)                Output Shape              Param #   \n",
      "=================================================================\n",
      " masking (Masking)           (None, 500, 100)          0         \n",
      "                                                                 \n",
      " lstm (LSTM)                 (None, 15)                6960      \n",
      "                                                                 \n",
      " dense (Dense)               (None, 1)                 16        \n",
      "                                                                 \n",
      "=================================================================\n",
      "Total params: 6,976\n",
      "Trainable params: 6,976\n",
      "Non-trainable params: 0\n",
      "_________________________________________________________________\n"
     ]
    }
   ],
   "source": [
    "rnn.summary()"
   ]
  },
  {
   "cell_type": "markdown",
   "id": "aa25de50",
   "metadata": {},
   "source": [
    "### Evaluate the RNN model"
   ]
  },
  {
   "cell_type": "markdown",
   "id": "9b470cf5",
   "metadata": {},
   "source": [
    "Evaluation of the loss and accuracy of the train and validation data across epochs:"
   ]
  },
  {
   "cell_type": "code",
   "execution_count": 41,
   "id": "1bc2200c",
   "metadata": {},
   "outputs": [],
   "source": [
    "def plot_loss_accuracy(history, title=None):\n",
    "    fig, ax = plt.subplots(1,2, figsize=(20,7))\n",
    "    \n",
    "    # --- LOSS --- \n",
    "    \n",
    "    ax[0].plot(history.history['loss'])\n",
    "    ax[0].plot(history.history['val_loss'])\n",
    "    ax[0].set_title('Model loss')\n",
    "    ax[0].set_ylabel('Loss')\n",
    "    ax[0].set_xlabel('Epoch')\n",
    "    ax[0].legend(['Train', 'Validate'], loc='best')\n",
    "    ax[0].grid(axis=\"x\",linewidth=0.5)\n",
    "    ax[0].grid(axis=\"y\",linewidth=0.5)\n",
    "    \n",
    "    # --- ACCURACY\n",
    "    \n",
    "    ax[1].plot(history.history['accuracy'])\n",
    "    ax[1].plot(history.history['val_accuracy'])\n",
    "    ax[1].set_title('Model Accuracy')\n",
    "    ax[1].set_ylabel('Accuracy')\n",
    "    ax[1].set_xlabel('Epoch')\n",
    "    ax[1].legend(['Train', 'Validate'], loc='best')\n",
    "    ax[1].grid(axis=\"x\",linewidth=0.5)\n",
    "    ax[1].grid(axis=\"y\",linewidth=0.5)\n",
    "    \n",
    "    if title:\n",
    "        fig.suptitle(title)"
   ]
  },
  {
   "cell_type": "code",
   "execution_count": 42,
   "id": "b4786163",
   "metadata": {
    "scrolled": true
   },
   "outputs": [
    {
     "data": {
      "image/png": "[encoded data removed]",
      "text/plain": [
       "<Figure size 1440x504 with 2 Axes>"
      ]
     },
     "metadata": {
      "needs_background": "light"
     },
     "output_type": "display_data"
    }
   ],
   "source": [
    "plot_loss_accuracy(history_rnn, title='Loss and Accuracy of the RNN (LSTM) alorithm')"
   ]
  },
  {
   "cell_type": "markdown",
   "id": "3126b436",
   "metadata": {},
   "source": [
    "Analysis of the loss and accuracy curves over the epochs confirm that both metrics for training and validation data converge over time and that the algorithm is not overfitting."
   ]
  },
  {
   "cell_type": "markdown",
   "id": "db8b8158",
   "metadata": {},
   "source": [
    "Calculate the F1-score and Accuracy of the testing data:"
   ]
  },
  {
   "cell_type": "code",
   "execution_count": 43,
   "id": "3f63dfe9",
   "metadata": {
    "scrolled": true
   },
   "outputs": [
    {
     "name": "stdout",
     "output_type": "stream",
     "text": [
      "The Accuracy of RNN is 99.0%\n",
      "The F1-score of RNN is 98.96%\n"
     ]
    }
   ],
   "source": [
    "y_pred_rnn = (rnn.predict(X_test_pad) >= 0.5).astype(\"int\")\n",
    "\n",
    "acc_rnn = accuracy_score(y_test, y_pred_rnn)\n",
    "print(f'The Accuracy of RNN is {round(acc_rnn*100,2)}%')\n",
    "f1_rnn = f1_score(y_test, y_pred_rnn)\n",
    "print(f'The F1-score of RNN is {round(f1_rnn*100,2)}%')"
   ]
  },
  {
   "cell_type": "markdown",
   "id": "7ffa13a8",
   "metadata": {},
   "source": [
    "## CNN "
   ]
  },
  {
   "cell_type": "markdown",
   "id": "a1fa0877",
   "metadata": {},
   "source": [
    "### Build the CNN model"
   ]
  },
  {
   "cell_type": "markdown",
   "id": "db5aa9fb",
   "metadata": {},
   "source": [
    "For the CNN model, the same embedded + padded X_train data will be used as for the RNN model above."
   ]
  },
  {
   "cell_type": "markdown",
   "id": "aa1b1493",
   "metadata": {},
   "source": [
    "I will use a 'simple' neural network with a single Conv1D layer consisting of 15 neurons, a subsequent flattening layer and a final Dense layer with sigmoid activation as it is a 2 category classification task. A masking layer is also included in order to ignore 0 values resulting from the padding."
   ]
  },
  {
   "cell_type": "code",
   "execution_count": 44,
   "id": "1ca51716",
   "metadata": {},
   "outputs": [],
   "source": [
    "cnn = Sequential([\n",
    "    layers.Masking(mask_value=0),\n",
    "    layers.Conv1D(15, kernel_size = 3),\n",
    "    layers.Flatten(),\n",
    "    layers.Dense(1, activation=\"sigmoid\")\n",
    "])\n",
    "\n",
    "cnn.compile(loss='binary_crossentropy',\n",
    "              optimizer='adam',\n",
    "              metrics=['accuracy'])"
   ]
  },
  {
   "cell_type": "markdown",
   "id": "337cfefb",
   "metadata": {},
   "source": [
    "### Train the CNN model"
   ]
  },
  {
   "cell_type": "markdown",
   "id": "3b7ec6a4",
   "metadata": {},
   "source": [
    "To reduce computation time, I will use a batch_size of 256. In addition, I'll implement an early stopping criterion to prevent overfitting. To prevent data leakage, I'm including a validation set for the training of the model (30% split of the training data)."
   ]
  },
  {
   "cell_type": "code",
   "execution_count": 45,
   "id": "75ac825a",
   "metadata": {
    "scrolled": true
   },
   "outputs": [
    {
     "name": "stdout",
     "output_type": "stream",
     "text": [
      "Epoch 1/200\n",
      "93/93 [==============================] - 29s 281ms/step - loss: 0.1740 - accuracy: 0.9324 - val_loss: 0.0742 - val_accuracy: 0.9750\n",
      "Epoch 2/200\n",
      "93/93 [==============================] - 23s 249ms/step - loss: 0.0513 - accuracy: 0.9833 - val_loss: 0.0716 - val_accuracy: 0.9755\n",
      "Epoch 3/200\n",
      "93/93 [==============================] - 23s 243ms/step - loss: 0.0330 - accuracy: 0.9910 - val_loss: 0.0624 - val_accuracy: 0.9786\n",
      "Epoch 4/200\n",
      "93/93 [==============================] - 20s 216ms/step - loss: 0.0247 - accuracy: 0.9929 - val_loss: 0.0564 - val_accuracy: 0.9826\n",
      "Epoch 5/200\n",
      "93/93 [==============================] - 21s 225ms/step - loss: 0.0202 - accuracy: 0.9944 - val_loss: 0.0592 - val_accuracy: 0.9812\n",
      "Epoch 6/200\n",
      "93/93 [==============================] - 19s 202ms/step - loss: 0.0134 - accuracy: 0.9974 - val_loss: 0.0616 - val_accuracy: 0.9811\n",
      "Epoch 7/200\n",
      "93/93 [==============================] - 21s 221ms/step - loss: 0.0112 - accuracy: 0.9974 - val_loss: 0.0610 - val_accuracy: 0.9818\n",
      "Epoch 8/200\n",
      "93/93 [==============================] - 16s 175ms/step - loss: 0.0082 - accuracy: 0.9984 - val_loss: 0.0628 - val_accuracy: 0.9820\n",
      "Epoch 9/200\n",
      "93/93 [==============================] - 17s 188ms/step - loss: 0.0061 - accuracy: 0.9991 - val_loss: 0.0637 - val_accuracy: 0.9818\n"
     ]
    }
   ],
   "source": [
    "es = callbacks.EarlyStopping(patience=5, \n",
    "                             restore_best_weights=True)\n",
    "\n",
    "history_cnn = cnn.fit(X_train_pad, y_train, \n",
    "                      epochs=200, \n",
    "                      batch_size=256, \n",
    "                      validation_split = 0.3,\n",
    "                      callbacks = es, \n",
    "                      verbose=1)"
   ]
  },
  {
   "cell_type": "code",
   "execution_count": 46,
   "id": "8d5f7022",
   "metadata": {},
   "outputs": [
    {
     "name": "stdout",
     "output_type": "stream",
     "text": [
      "Model: \"sequential_1\"\n",
      "_________________________________________________________________\n",
      " Layer (type)                Output Shape              Param #   \n",
      "=================================================================\n",
      " masking_1 (Masking)         (None, 500, 100)          0         \n",
      "                                                                 \n",
      " conv1d (Conv1D)             (None, 498, 15)           4515      \n",
      "                                                                 \n",
      " flatten (Flatten)           (None, 7470)              0         \n",
      "                                                                 \n",
      " dense_1 (Dense)             (None, 1)                 7471      \n",
      "                                                                 \n",
      "=================================================================\n",
      "Total params: 11,986\n",
      "Trainable params: 11,986\n",
      "Non-trainable params: 0\n",
      "_________________________________________________________________\n"
     ]
    }
   ],
   "source": [
    "cnn.summary()"
   ]
  },
  {
   "cell_type": "markdown",
   "id": "e43348a5",
   "metadata": {},
   "source": [
    "### Evaluate the CNN model"
   ]
  },
  {
   "cell_type": "markdown",
   "id": "faf22fd8",
   "metadata": {},
   "source": [
    "Evaluation of the loss and accuracy of the train and validation data across epochs:"
   ]
  },
  {
   "cell_type": "code",
   "execution_count": 47,
   "id": "1b9a477f",
   "metadata": {
    "scrolled": false
   },
   "outputs": [
    {
     "data": {
      "image/png": "[encoded data removed]",
      "text/plain": [
       "<Figure size 1440x504 with 2 Axes>"
      ]
     },
     "metadata": {
      "needs_background": "light"
     },
     "output_type": "display_data"
    }
   ],
   "source": [
    "plot_loss_accuracy(history_cnn, title='Loss and Accuracy of the CNN alorithm')"
   ]
  },
  {
   "cell_type": "markdown",
   "id": "e4947999",
   "metadata": {},
   "source": [
    "Analysis of the loss and accuracy curves over the epochs confirm that both metrics for training and validation data converge over time and that the algorithm is not overfitting."
   ]
  },
  {
   "cell_type": "markdown",
   "id": "3028bec0",
   "metadata": {},
   "source": [
    "Calculate the F1-score and Accuracy of the testing data:"
   ]
  },
  {
   "cell_type": "code",
   "execution_count": 48,
   "id": "7487e3f4",
   "metadata": {
    "scrolled": true
   },
   "outputs": [
    {
     "name": "stdout",
     "output_type": "stream",
     "text": [
      "The Accuracy of CNN is 98.0%\n",
      "The F1-score of CNN is 97.91%\n"
     ]
    }
   ],
   "source": [
    "y_pred_cnn = (cnn.predict(X_test_pad) >= 0.5).astype(\"int\")\n",
    "\n",
    "acc_cnn = accuracy_score(y_test, y_pred_cnn)\n",
    "print(f'The Accuracy of CNN is {round(acc_cnn*100,2)}%')\n",
    "f1_cnn = f1_score(y_test, y_pred_cnn)\n",
    "print(f'The F1-score of CNN is {round(f1_cnn*100,2)}%')"
   ]
  },
  {
   "cell_type": "markdown",
   "id": "1f0ed7ce",
   "metadata": {},
   "source": [
    "## XGBoost"
   ]
  },
  {
   "cell_type": "markdown",
   "id": "d84e6665",
   "metadata": {},
   "source": [
    "### Transformation with DistilBERT"
   ]
  },
  {
   "cell_type": "markdown",
   "id": "2cba686a",
   "metadata": {},
   "source": [
    "Here, words are transformed using a pre-trained word transformer DisitlBERT. As shown in the graph above, the majority of the text entries contain less that 500 words (both for True and Fake texts). Therefore I will limit tokenization to 500, truncating texts with more than 500 words and padding text with less that 500 words."
   ]
  },
  {
   "cell_type": "code",
   "execution_count": 49,
   "id": "13ca0338",
   "metadata": {
    "scrolled": true
   },
   "outputs": [],
   "source": [
    "tokenizer = DistilBertTokenizer.from_pretrained('distilbert-base-uncased')"
   ]
  },
  {
   "cell_type": "code",
   "execution_count": 50,
   "id": "3d0918fb",
   "metadata": {},
   "outputs": [],
   "source": [
    "X_train_dbert = tokenizer(X_train.to_list(), is_split_into_words = True, max_length = 500, padding = True, truncation = True)['input_ids']\n",
    "X_test_dbert = tokenizer(X_test.to_list(), is_split_into_words = True, max_length = 500, padding = True, truncation = True)['input_ids']"
   ]
  },
  {
   "cell_type": "markdown",
   "id": "ba85e54b",
   "metadata": {},
   "source": [
    "### Train the model"
   ]
  },
  {
   "cell_type": "code",
   "execution_count": 51,
   "id": "5c4a4244",
   "metadata": {
    "scrolled": true
   },
   "outputs": [],
   "source": [
    "xgb = XGBClassifier(use_label_encoder=False, missing = 0)"
   ]
  },
  {
   "cell_type": "code",
   "execution_count": 52,
   "id": "f16f50e0",
   "metadata": {},
   "outputs": [
    {
     "name": "stdout",
     "output_type": "stream",
     "text": [
      "[18:02:04] WARNING: /Users/runner/work/xgboost/xgboost/src/learner.cc:1115: Starting in XGBoost 1.3.0, the default evaluation metric used with the objective 'binary:logistic' was changed from 'error' to 'logloss'. Explicitly set eval_metric if you'd like to restore the old behavior.\n"
     ]
    },
    {
     "data": {
      "text/plain": [
       "XGBClassifier(base_score=0.5, booster='gbtree', colsample_bylevel=1,\n",
       "              colsample_bynode=1, colsample_bytree=1, enable_categorical=False,\n",
       "              gamma=0, gpu_id=-1, importance_type=None,\n",
       "              interaction_constraints='', learning_rate=0.300000012,\n",
       "              max_delta_step=0, max_depth=6, min_child_weight=1, missing=0,\n",
       "              monotone_constraints='()', n_estimators=100, n_jobs=4,\n",
       "              num_parallel_tree=1, predictor='auto', random_state=0,\n",
       "              reg_alpha=0, reg_lambda=1, scale_pos_weight=1, subsample=1,\n",
       "              tree_method='exact', use_label_encoder=False,\n",
       "              validate_parameters=1, verbosity=None)"
      ]
     },
     "execution_count": 52,
     "metadata": {},
     "output_type": "execute_result"
    }
   ],
   "source": [
    "xgb.fit(X_train_dbert, y_train)"
   ]
  },
  {
   "cell_type": "markdown",
   "id": "ca53fe73",
   "metadata": {},
   "source": [
    "### Evaluate the model"
   ]
  },
  {
   "cell_type": "markdown",
   "id": "3607d39e",
   "metadata": {},
   "source": [
    "Calculate the F1-score and Accuracy of the testing data:"
   ]
  },
  {
   "cell_type": "code",
   "execution_count": 53,
   "id": "def05456",
   "metadata": {},
   "outputs": [
    {
     "name": "stdout",
     "output_type": "stream",
     "text": [
      "The accuracy of XGBOOST is: 87.63%\n",
      "The F1-score of XGBOOST is: 86.18%\n"
     ]
    }
   ],
   "source": [
    "y_pred_xgb = xgb.predict(X_test_dbert)\n",
    "\n",
    "acc_xgb = accuracy_score(y_test, y_pred_xgb)\n",
    "print(f\"The accuracy of XGBOOST is: {round(acc_xgb*100, 2)}%\")\n",
    "\n",
    "f1_xgb = f1_score(y_test, y_pred_xgb)\n",
    "print(f\"The F1-score of XGBOOST is: {round(f1_xgb*100, 2)}%\")"
   ]
  },
  {
   "cell_type": "markdown",
   "id": "8215cd16",
   "metadata": {},
   "source": [
    "# Summary, Conclusion and Future Analysis"
   ]
  },
  {
   "cell_type": "markdown",
   "id": "22559294",
   "metadata": {},
   "source": [
    "## Summary"
   ]
  },
  {
   "cell_type": "markdown",
   "id": "4f2eaa29",
   "metadata": {},
   "source": [
    "### Models"
   ]
  },
  {
   "cell_type": "markdown",
   "id": "21383203",
   "metadata": {},
   "source": [
    "For Natural Language Processing (NLP), deep learning algorithms are typically applied because they efficiently capture complex and non-linear relationships in text data. For this NLP Classification challenge, I trained two deep learning models, one with a Recurrent Neural Network architecture (RNN) and another with a Convolutional Neural Network (CNN) architecture. In addition, I trained the advanced gradient boosting machine learning algorithm XGBoost."
   ]
  },
  {
   "cell_type": "markdown",
   "id": "d7eeb716",
   "metadata": {},
   "source": [
    "#### RNN"
   ]
  },
  {
   "cell_type": "markdown",
   "id": "db617252",
   "metadata": {},
   "source": [
    "RNN is a neuronal network architecture for sequential data such as texts, with each sentence being a sequence of words. RNN is especially powerful for the analysis of longer texts where feature detection is important. Here, I chose to use a Long Short-Term Memory (LSTM) architecture to overcome vanishing gradient problems. "
   ]
  },
  {
   "cell_type": "markdown",
   "id": "c872ec3a",
   "metadata": {},
   "source": [
    "#### CNN"
   ]
  },
  {
   "cell_type": "markdown",
   "id": "f227f119",
   "metadata": {},
   "source": [
    "CNN is another DL architecture that can be employed for the classification of hierarchical data. Even though CNN is typically used in image processing applications, they can also be effectively be used on text data. Here, sequences are representes as a matrix and a one-dimensional convolution can be used to 'slide' along the text-axis with a kernel-size of choice. A major advantage of CNN compared to RNN is that it significantly reduces computational complexity while preserving important features, and it works particularly well on shorter texts."
   ]
  },
  {
   "cell_type": "markdown",
   "id": "2238b31d",
   "metadata": {},
   "source": [
    "#### XGBoost"
   ]
  },
  {
   "cell_type": "markdown",
   "id": "30cc6152",
   "metadata": {},
   "source": [
    "In addition to the deep learning models, I also trained the gradient boosting algorithm XGBoost. It implements parallel tree boosting and is able to solve complex data science problems fast and accurately. Other ML models for the detection of fake news could have included the Naive Bayes Algorithm or Random Forest Regressor, or other more advanced ML models such as LightGBM or CatBoost."
   ]
  },
  {
   "cell_type": "markdown",
   "id": "af4a1efc",
   "metadata": {},
   "source": [
    "### Vectorizing and embedding"
   ]
  },
  {
   "cell_type": "markdown",
   "id": "e8b31456",
   "metadata": {},
   "source": [
    "For both the RNN and CNN model training, I used the word embedder Word2Vec (other embedder options could have been GloVe or FastText), as it is both robust and computationally fast. During Word2Vec embedding, words are mapped to a multi-dimensional vector in such a way that words with similar context are close to each other in this mathematical space, which was verified by word arithmetics. "
   ]
  },
  {
   "cell_type": "markdown",
   "id": "b98c6204",
   "metadata": {},
   "source": [
    "However, Word Embedding transforms the input data into a 3-dimensional vector, and the XGBoost algorithm requires a 2D input. Rather than using standard vectorization (e.g. using Bag of Words, Tf-ldf), I used a pre-trained word transformer. Compared to standard vectorizing techniques, word transformation manages to capture context and has the additional advantage that it can assign different vectors to the same word based on its meaning. Here, I used the pre-trained 'Distil-BERT', a distilled, lighter version of 'BERT', that preserves 95% of the BERT performance while reducing the number of parameters by half. "
   ]
  },
  {
   "cell_type": "markdown",
   "id": "88e89edc",
   "metadata": {},
   "source": [
    "## Conclusion"
   ]
  },
  {
   "cell_type": "markdown",
   "id": "6a70c612",
   "metadata": {},
   "source": [
    "Visual comparison of the performance metrics on the test data:"
   ]
  },
  {
   "cell_type": "code",
   "execution_count": 54,
   "id": "3b9a1020",
   "metadata": {
    "scrolled": false
   },
   "outputs": [
    {
     "data": {
      "text/plain": [
       "[Text(0.5, 1.0, 'Performance scores test data (%)')]"
      ]
     },
     "execution_count": 54,
     "metadata": {},
     "output_type": "execute_result"
    },
    {
     "data": {
      "image/png": "[encoded data removed]",
      "text/plain": [
       "<Figure size 432x288 with 2 Axes>"
      ]
     },
     "metadata": {
      "needs_background": "light"
     },
     "output_type": "display_data"
    }
   ],
   "source": [
    "scores = np.array([\n",
    "    [f1_rnn*100, acc_rnn*100], \n",
    "    [f1_cnn*100, acc_cnn*100], \n",
    "    [f1_xgb*100, acc_xgb*100]\n",
    "])\n",
    " \n",
    "sns.heatmap(scores, \n",
    "            linewidth = 1 , \n",
    "            annot = True, \n",
    "            xticklabels=['F1-Score', 'Accuracy'], \n",
    "            yticklabels=['LSTM', 'CNN', 'XGBoost'], \n",
    "            cmap = 'flare').set(title=\"Performance scores test data (%)\")\n"
   ]
  },
  {
   "cell_type": "markdown",
   "id": "7575798f",
   "metadata": {},
   "source": [
    "Based on this analysis, both deep learning models outperform the XGBoost algorithm. Of those, I prefer the CNN algorithm. Even though the performance scores of the CNN and RNN/LSTM model are very similar, the CNN model required significantly less computational time."
   ]
  },
  {
   "cell_type": "markdown",
   "id": "806a5690",
   "metadata": {},
   "source": [
    "## Future analysis"
   ]
  },
  {
   "cell_type": "markdown",
   "id": "07aadddc",
   "metadata": {},
   "source": [
    "Further optimization steps could include:\n",
    "\n",
    "- Optimize the number of neurons and number of layers in the deep learning models.\n",
    "- Train different models. Other examples of algorithms suited for text classification include the Naive Bayes Algorithm, RandomForestRegressor and LightGBM.\n",
    "- Apply different vectorizers (e.g. Bag of Words, N-Grams), word embedders (e.g. GloVe, FastText) or word transformers (e.g. BERT, RoBERTa).\n",
    "- Fine-tune the hyper-parameters of the algorithms, word embedders and word transformers and using GridSearch.\n",
    "- Further fine-tune data preprocessing and feature engineering steps e.g. presence twitter handles and urls, vocabulary richness, date information, digit/character ratio, capitalization.\n"
   ]
  }
 ],
 "metadata": {
  "kernelspec": {
   "display_name": "Python 3 (ipykernel)",
   "language": "python",
   "name": "python3"
  },
  "language_info": {
   "codemirror_mode": {
    "name": "ipython",
    "version": 3
   },
   "file_extension": ".py",
   "mimetype": "text/x-python",
   "name": "python",
   "nbconvert_exporter": "python",
   "pygments_lexer": "ipython3",
   "version": "3.8.12"
  },
  "toc": {
   "base_numbering": 1,
   "nav_menu": {},
   "number_sections": true,
   "sideBar": true,
   "skip_h1_title": false,
   "title_cell": "Table of Contents",
   "title_sidebar": "Contents",
   "toc_cell": false,
   "toc_position": {},
   "toc_section_display": true,
   "toc_window_display": false
  }
 },
 "nbformat": 4,
 "nbformat_minor": 5
}
